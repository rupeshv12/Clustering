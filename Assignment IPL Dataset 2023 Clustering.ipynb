{
 "cells": [
  {
   "cell_type": "code",
   "execution_count": 1,
   "id": "e6626c6b",
   "metadata": {},
   "outputs": [],
   "source": [
    "#Import necessary libraries\n",
    "import pandas as pd\n",
    "import numpy as np\n",
    "import seaborn as sns\n",
    "import matplotlib.pyplot as plt"
   ]
  },
  {
   "cell_type": "markdown",
   "id": "6c6279f6",
   "metadata": {},
   "source": [
    "## Data Preparation "
   ]
  },
  {
   "cell_type": "code",
   "execution_count": 2,
   "id": "2a710e81",
   "metadata": {},
   "outputs": [
    {
     "data": {
      "text/html": [
       "<div>\n",
       "<style scoped>\n",
       "    .dataframe tbody tr th:only-of-type {\n",
       "        vertical-align: middle;\n",
       "    }\n",
       "\n",
       "    .dataframe tbody tr th {\n",
       "        vertical-align: top;\n",
       "    }\n",
       "\n",
       "    .dataframe thead th {\n",
       "        text-align: right;\n",
       "    }\n",
       "</style>\n",
       "<table border=\"1\" class=\"dataframe\">\n",
       "  <thead>\n",
       "    <tr style=\"text-align: right;\">\n",
       "      <th></th>\n",
       "      <th>match_no</th>\n",
       "      <th>ballnumber</th>\n",
       "      <th>inningno</th>\n",
       "      <th>over</th>\n",
       "      <th>outcome</th>\n",
       "      <th>batter</th>\n",
       "      <th>bowler</th>\n",
       "      <th>comment</th>\n",
       "      <th>score</th>\n",
       "    </tr>\n",
       "  </thead>\n",
       "  <tbody>\n",
       "    <tr>\n",
       "      <th>0</th>\n",
       "      <td>1</td>\n",
       "      <td>1</td>\n",
       "      <td>1</td>\n",
       "      <td>0.1</td>\n",
       "      <td>0</td>\n",
       "      <td>Devon Conway</td>\n",
       "      <td>Mohammed Shami</td>\n",
       "      <td>Mohammed Shami to Devon Conway, no run,</td>\n",
       "      <td>0</td>\n",
       "    </tr>\n",
       "    <tr>\n",
       "      <th>1</th>\n",
       "      <td>1</td>\n",
       "      <td>2</td>\n",
       "      <td>1</td>\n",
       "      <td>0.2</td>\n",
       "      <td>1lb</td>\n",
       "      <td>Devon Conway</td>\n",
       "      <td>Mohammed Shami</td>\n",
       "      <td>Mohammed Shami to Devon Conway, 1 leg bye,</td>\n",
       "      <td>1</td>\n",
       "    </tr>\n",
       "    <tr>\n",
       "      <th>2</th>\n",
       "      <td>1</td>\n",
       "      <td>3</td>\n",
       "      <td>1</td>\n",
       "      <td>0.3</td>\n",
       "      <td>0</td>\n",
       "      <td>Ruturaj Gaikwad</td>\n",
       "      <td>Mohammed Shami</td>\n",
       "      <td>Mohammed Shami to Ruturaj Gaikwad, no run,</td>\n",
       "      <td>0</td>\n",
       "    </tr>\n",
       "    <tr>\n",
       "      <th>3</th>\n",
       "      <td>1</td>\n",
       "      <td>4</td>\n",
       "      <td>1</td>\n",
       "      <td>0.4</td>\n",
       "      <td>1</td>\n",
       "      <td>Ruturaj Gaikwad</td>\n",
       "      <td>Mohammed Shami</td>\n",
       "      <td>Mohammed Shami to Ruturaj Gaikwad, 1 run,</td>\n",
       "      <td>1</td>\n",
       "    </tr>\n",
       "    <tr>\n",
       "      <th>4</th>\n",
       "      <td>1</td>\n",
       "      <td>5</td>\n",
       "      <td>1</td>\n",
       "      <td>0.5</td>\n",
       "      <td>0</td>\n",
       "      <td>Devon Conway</td>\n",
       "      <td>Mohammed Shami</td>\n",
       "      <td>Mohammed Shami to Devon Conway, no run,</td>\n",
       "      <td>0</td>\n",
       "    </tr>\n",
       "  </tbody>\n",
       "</table>\n",
       "</div>"
      ],
      "text/plain": [
       "   match_no  ballnumber  inningno  over outcome           batter  \\\n",
       "0         1           1         1   0.1       0     Devon Conway   \n",
       "1         1           2         1   0.2     1lb     Devon Conway   \n",
       "2         1           3         1   0.3       0  Ruturaj Gaikwad   \n",
       "3         1           4         1   0.4       1  Ruturaj Gaikwad   \n",
       "4         1           5         1   0.5       0     Devon Conway   \n",
       "\n",
       "           bowler                                     comment  score  \n",
       "0  Mohammed Shami     Mohammed Shami to Devon Conway, no run,      0  \n",
       "1  Mohammed Shami  Mohammed Shami to Devon Conway, 1 leg bye,      1  \n",
       "2  Mohammed Shami  Mohammed Shami to Ruturaj Gaikwad, no run,      0  \n",
       "3  Mohammed Shami   Mohammed Shami to Ruturaj Gaikwad, 1 run,      1  \n",
       "4  Mohammed Shami     Mohammed Shami to Devon Conway, no run,      0  "
      ]
     },
     "execution_count": 2,
     "metadata": {},
     "output_type": "execute_result"
    }
   ],
   "source": [
    "#Read data using pandas - Import the IPL dataset from kaggle\n",
    "ball_faced=pd.read_csv('each_ball_records.csv')\n",
    "ball_faced.head()"
   ]
  },
  {
   "cell_type": "code",
   "execution_count": 3,
   "id": "ae2ddd73",
   "metadata": {},
   "outputs": [],
   "source": [
    "#Take the required features\n",
    "df=ball_faced[['batter','score','outcome']]"
   ]
  },
  {
   "cell_type": "code",
   "execution_count": 4,
   "id": "dd5d160b",
   "metadata": {},
   "outputs": [
    {
     "data": {
      "text/html": [
       "<div>\n",
       "<style scoped>\n",
       "    .dataframe tbody tr th:only-of-type {\n",
       "        vertical-align: middle;\n",
       "    }\n",
       "\n",
       "    .dataframe tbody tr th {\n",
       "        vertical-align: top;\n",
       "    }\n",
       "\n",
       "    .dataframe thead th {\n",
       "        text-align: right;\n",
       "    }\n",
       "</style>\n",
       "<table border=\"1\" class=\"dataframe\">\n",
       "  <thead>\n",
       "    <tr style=\"text-align: right;\">\n",
       "      <th></th>\n",
       "      <th>batter</th>\n",
       "      <th>score</th>\n",
       "      <th>outcome</th>\n",
       "    </tr>\n",
       "  </thead>\n",
       "  <tbody>\n",
       "    <tr>\n",
       "      <th>0</th>\n",
       "      <td>Devon Conway</td>\n",
       "      <td>0</td>\n",
       "      <td>0</td>\n",
       "    </tr>\n",
       "    <tr>\n",
       "      <th>1</th>\n",
       "      <td>Devon Conway</td>\n",
       "      <td>1</td>\n",
       "      <td>1lb</td>\n",
       "    </tr>\n",
       "    <tr>\n",
       "      <th>2</th>\n",
       "      <td>Ruturaj Gaikwad</td>\n",
       "      <td>0</td>\n",
       "      <td>0</td>\n",
       "    </tr>\n",
       "    <tr>\n",
       "      <th>3</th>\n",
       "      <td>Ruturaj Gaikwad</td>\n",
       "      <td>1</td>\n",
       "      <td>1</td>\n",
       "    </tr>\n",
       "    <tr>\n",
       "      <th>4</th>\n",
       "      <td>Devon Conway</td>\n",
       "      <td>0</td>\n",
       "      <td>0</td>\n",
       "    </tr>\n",
       "  </tbody>\n",
       "</table>\n",
       "</div>"
      ],
      "text/plain": [
       "            batter  score outcome\n",
       "0     Devon Conway      0       0\n",
       "1     Devon Conway      1     1lb\n",
       "2  Ruturaj Gaikwad      0       0\n",
       "3  Ruturaj Gaikwad      1       1\n",
       "4     Devon Conway      0       0"
      ]
     },
     "execution_count": 4,
     "metadata": {},
     "output_type": "execute_result"
    }
   ],
   "source": [
    "df.head()"
   ]
  },
  {
   "cell_type": "raw",
   "id": "91dda25f",
   "metadata": {},
   "source": [
    "#formula used\n",
    "strike_rate = scored_runs/ball_faced\n",
    "average = scored_runs/times_out"
   ]
  },
  {
   "cell_type": "markdown",
   "id": "87dcf3eb",
   "metadata": {},
   "source": [
    "## Feature Engg"
   ]
  },
  {
   "cell_type": "code",
   "execution_count": 5,
   "id": "20c70cfd",
   "metadata": {},
   "outputs": [],
   "source": [
    "\n",
    "#get each player details and geneation of two new features (strike_rates and averages)\n",
    "player_details = []\n",
    "for name in df['batter'].unique():\n",
    "    ball_faced = df[df['batter'] == name]['score'].count()\n",
    "    if ball_faced >=100:  #select players who has played minimum 100 balls\n",
    "        scored_runs = df[df['batter'] == name]['score'].sum()        \n",
    "        times_out = df[(df['batter'] == name ) & (df['outcome'] == 'w' )]['outcome'].count() \n",
    "    \n",
    "        strike_rate = round((scored_runs/ball_faced)*100,2)\n",
    "        average = round((scored_runs/times_out),2)\n",
    "        player_array = [name, strike_rate, average]\n",
    "        player_details.append(player_array)\n",
    "\n",
    "df_players=pd.DataFrame(player_details,columns=['Name','Strike_rate','Average']) \n"
   ]
  },
  {
   "cell_type": "code",
   "execution_count": 6,
   "id": "733eec80",
   "metadata": {},
   "outputs": [
    {
     "data": {
      "text/html": [
       "<div>\n",
       "<style scoped>\n",
       "    .dataframe tbody tr th:only-of-type {\n",
       "        vertical-align: middle;\n",
       "    }\n",
       "\n",
       "    .dataframe tbody tr th {\n",
       "        vertical-align: top;\n",
       "    }\n",
       "\n",
       "    .dataframe thead th {\n",
       "        text-align: right;\n",
       "    }\n",
       "</style>\n",
       "<table border=\"1\" class=\"dataframe\">\n",
       "  <thead>\n",
       "    <tr style=\"text-align: right;\">\n",
       "      <th></th>\n",
       "      <th>Name</th>\n",
       "      <th>Strike_rate</th>\n",
       "      <th>Average</th>\n",
       "    </tr>\n",
       "  </thead>\n",
       "  <tbody>\n",
       "    <tr>\n",
       "      <th>0</th>\n",
       "      <td>Devon Conway</td>\n",
       "      <td>142.20</td>\n",
       "      <td>48.86</td>\n",
       "    </tr>\n",
       "    <tr>\n",
       "      <th>1</th>\n",
       "      <td>Ruturaj Gaikwad</td>\n",
       "      <td>149.02</td>\n",
       "      <td>46.77</td>\n",
       "    </tr>\n",
       "    <tr>\n",
       "      <th>2</th>\n",
       "      <td>Ambati Rayudu</td>\n",
       "      <td>139.13</td>\n",
       "      <td>16.00</td>\n",
       "    </tr>\n",
       "    <tr>\n",
       "      <th>3</th>\n",
       "      <td>Shivam Dube</td>\n",
       "      <td>158.12</td>\n",
       "      <td>39.82</td>\n",
       "    </tr>\n",
       "    <tr>\n",
       "      <th>4</th>\n",
       "      <td>Ravindra Jadeja</td>\n",
       "      <td>145.65</td>\n",
       "      <td>25.12</td>\n",
       "    </tr>\n",
       "    <tr>\n",
       "      <th>...</th>\n",
       "      <td>...</td>\n",
       "      <td>...</td>\n",
       "      <td>...</td>\n",
       "    </tr>\n",
       "    <tr>\n",
       "      <th>59</th>\n",
       "      <td>Atharva Taide</td>\n",
       "      <td>140.48</td>\n",
       "      <td>29.50</td>\n",
       "    </tr>\n",
       "    <tr>\n",
       "      <th>60</th>\n",
       "      <td>Liam Livings</td>\n",
       "      <td>169.71</td>\n",
       "      <td>33.00</td>\n",
       "    </tr>\n",
       "    <tr>\n",
       "      <th>61</th>\n",
       "      <td>Jason Roy</td>\n",
       "      <td>150.00</td>\n",
       "      <td>36.00</td>\n",
       "    </tr>\n",
       "    <tr>\n",
       "      <th>62</th>\n",
       "      <td>Philip Salt</td>\n",
       "      <td>166.67</td>\n",
       "      <td>28.12</td>\n",
       "    </tr>\n",
       "    <tr>\n",
       "      <th>63</th>\n",
       "      <td>Quin</td>\n",
       "      <td>142.72</td>\n",
       "      <td>36.75</td>\n",
       "    </tr>\n",
       "  </tbody>\n",
       "</table>\n",
       "<p>64 rows × 3 columns</p>\n",
       "</div>"
      ],
      "text/plain": [
       "               Name  Strike_rate  Average\n",
       "0      Devon Conway       142.20    48.86\n",
       "1   Ruturaj Gaikwad       149.02    46.77\n",
       "2     Ambati Rayudu       139.13    16.00\n",
       "3       Shivam Dube       158.12    39.82\n",
       "4   Ravindra Jadeja       145.65    25.12\n",
       "..              ...          ...      ...\n",
       "59    Atharva Taide       140.48    29.50\n",
       "60     Liam Livings       169.71    33.00\n",
       "61        Jason Roy       150.00    36.00\n",
       "62      Philip Salt       166.67    28.12\n",
       "63             Quin       142.72    36.75\n",
       "\n",
       "[64 rows x 3 columns]"
      ]
     },
     "execution_count": 6,
     "metadata": {},
     "output_type": "execute_result"
    }
   ],
   "source": [
    "df_players.head(200)"
   ]
  },
  {
   "cell_type": "markdown",
   "id": "d9594884",
   "metadata": {},
   "source": [
    "## EDA"
   ]
  },
  {
   "cell_type": "code",
   "execution_count": 7,
   "id": "9578e762",
   "metadata": {},
   "outputs": [
    {
     "data": {
      "image/png": "[encoded data removed]",
      "text/plain": [
       "<Figure size 640x480 with 1 Axes>"
      ]
     },
     "metadata": {},
     "output_type": "display_data"
    }
   ],
   "source": [
    "#visulization strike_rates vs  averages\n",
    "sns.scatterplot(data=df_players,x='Strike_rate',y='Average');\n",
    "#Generally players are more in number having strike_rate b/w 125 to 160 - and having average b/w 20 to 40)"
   ]
  },
  {
   "cell_type": "markdown",
   "id": "6520dc25",
   "metadata": {},
   "source": [
    "## K-Means Clustering "
   ]
  },
  {
   "cell_type": "code",
   "execution_count": 8,
   "id": "c2502db8",
   "metadata": {},
   "outputs": [],
   "source": [
    "#lets starts kmeans\n",
    "from sklearn.cluster import KMeans"
   ]
  },
  {
   "cell_type": "code",
   "execution_count": 9,
   "id": "ce56d027",
   "metadata": {},
   "outputs": [],
   "source": [
    "#find the optimal number of cluster using elbow\n"
   ]
  },
  {
   "cell_type": "code",
   "execution_count": 10,
   "id": "6d325ad5",
   "metadata": {},
   "outputs": [],
   "source": [
    "X=df_players[['Strike_rate','Average']].values"
   ]
  },
  {
   "cell_type": "code",
   "execution_count": 11,
   "id": "95e9900d",
   "metadata": {},
   "outputs": [
    {
     "name": "stdout",
     "output_type": "stream",
     "text": [
      "<class 'pandas.core.frame.DataFrame'>\n",
      "RangeIndex: 64 entries, 0 to 63\n",
      "Data columns (total 3 columns):\n",
      " #   Column       Non-Null Count  Dtype  \n",
      "---  ------       --------------  -----  \n",
      " 0   Name         64 non-null     object \n",
      " 1   Strike_rate  64 non-null     float64\n",
      " 2   Average      64 non-null     float64\n",
      "dtypes: float64(2), object(1)\n",
      "memory usage: 1.6+ KB\n"
     ]
    }
   ],
   "source": [
    "df_players.info()"
   ]
  },
  {
   "cell_type": "code",
   "execution_count": 12,
   "id": "45e21782",
   "metadata": {},
   "outputs": [
    {
     "name": "stderr",
     "output_type": "stream",
     "text": [
      "C:\\Users\\rupeshv\\Anaconda3\\envs\\rup_venv\\lib\\site-packages\\sklearn\\cluster\\_kmeans.py:870: FutureWarning: The default value of `n_init` will change from 10 to 'auto' in 1.4. Set the value of `n_init` explicitly to suppress the warning\n",
      "  warnings.warn(\n",
      "C:\\Users\\rupeshv\\Anaconda3\\envs\\rup_venv\\lib\\site-packages\\sklearn\\cluster\\_kmeans.py:1382: UserWarning: KMeans is known to have a memory leak on Windows with MKL, when there are less chunks than available threads. You can avoid it by setting the environment variable OMP_NUM_THREADS=1.\n",
      "  warnings.warn(\n",
      "C:\\Users\\rupeshv\\Anaconda3\\envs\\rup_venv\\lib\\site-packages\\sklearn\\cluster\\_kmeans.py:870: FutureWarning: The default value of `n_init` will change from 10 to 'auto' in 1.4. Set the value of `n_init` explicitly to suppress the warning\n",
      "  warnings.warn(\n",
      "C:\\Users\\rupeshv\\Anaconda3\\envs\\rup_venv\\lib\\site-packages\\sklearn\\cluster\\_kmeans.py:1382: UserWarning: KMeans is known to have a memory leak on Windows with MKL, when there are less chunks than available threads. You can avoid it by setting the environment variable OMP_NUM_THREADS=1.\n",
      "  warnings.warn(\n",
      "C:\\Users\\rupeshv\\Anaconda3\\envs\\rup_venv\\lib\\site-packages\\sklearn\\cluster\\_kmeans.py:870: FutureWarning: The default value of `n_init` will change from 10 to 'auto' in 1.4. Set the value of `n_init` explicitly to suppress the warning\n",
      "  warnings.warn(\n",
      "C:\\Users\\rupeshv\\Anaconda3\\envs\\rup_venv\\lib\\site-packages\\sklearn\\cluster\\_kmeans.py:1382: UserWarning: KMeans is known to have a memory leak on Windows with MKL, when there are less chunks than available threads. You can avoid it by setting the environment variable OMP_NUM_THREADS=1.\n",
      "  warnings.warn(\n",
      "C:\\Users\\rupeshv\\Anaconda3\\envs\\rup_venv\\lib\\site-packages\\sklearn\\cluster\\_kmeans.py:870: FutureWarning: The default value of `n_init` will change from 10 to 'auto' in 1.4. Set the value of `n_init` explicitly to suppress the warning\n",
      "  warnings.warn(\n",
      "C:\\Users\\rupeshv\\Anaconda3\\envs\\rup_venv\\lib\\site-packages\\sklearn\\cluster\\_kmeans.py:1382: UserWarning: KMeans is known to have a memory leak on Windows with MKL, when there are less chunks than available threads. You can avoid it by setting the environment variable OMP_NUM_THREADS=1.\n",
      "  warnings.warn(\n",
      "C:\\Users\\rupeshv\\Anaconda3\\envs\\rup_venv\\lib\\site-packages\\sklearn\\cluster\\_kmeans.py:870: FutureWarning: The default value of `n_init` will change from 10 to 'auto' in 1.4. Set the value of `n_init` explicitly to suppress the warning\n",
      "  warnings.warn(\n",
      "C:\\Users\\rupeshv\\Anaconda3\\envs\\rup_venv\\lib\\site-packages\\sklearn\\cluster\\_kmeans.py:1382: UserWarning: KMeans is known to have a memory leak on Windows with MKL, when there are less chunks than available threads. You can avoid it by setting the environment variable OMP_NUM_THREADS=1.\n",
      "  warnings.warn(\n",
      "C:\\Users\\rupeshv\\Anaconda3\\envs\\rup_venv\\lib\\site-packages\\sklearn\\cluster\\_kmeans.py:870: FutureWarning: The default value of `n_init` will change from 10 to 'auto' in 1.4. Set the value of `n_init` explicitly to suppress the warning\n",
      "  warnings.warn(\n",
      "C:\\Users\\rupeshv\\Anaconda3\\envs\\rup_venv\\lib\\site-packages\\sklearn\\cluster\\_kmeans.py:1382: UserWarning: KMeans is known to have a memory leak on Windows with MKL, when there are less chunks than available threads. You can avoid it by setting the environment variable OMP_NUM_THREADS=1.\n",
      "  warnings.warn(\n",
      "C:\\Users\\rupeshv\\Anaconda3\\envs\\rup_venv\\lib\\site-packages\\sklearn\\cluster\\_kmeans.py:870: FutureWarning: The default value of `n_init` will change from 10 to 'auto' in 1.4. Set the value of `n_init` explicitly to suppress the warning\n",
      "  warnings.warn(\n",
      "C:\\Users\\rupeshv\\Anaconda3\\envs\\rup_venv\\lib\\site-packages\\sklearn\\cluster\\_kmeans.py:1382: UserWarning: KMeans is known to have a memory leak on Windows with MKL, when there are less chunks than available threads. You can avoid it by setting the environment variable OMP_NUM_THREADS=1.\n",
      "  warnings.warn(\n",
      "C:\\Users\\rupeshv\\Anaconda3\\envs\\rup_venv\\lib\\site-packages\\sklearn\\cluster\\_kmeans.py:870: FutureWarning: The default value of `n_init` will change from 10 to 'auto' in 1.4. Set the value of `n_init` explicitly to suppress the warning\n",
      "  warnings.warn(\n",
      "C:\\Users\\rupeshv\\Anaconda3\\envs\\rup_venv\\lib\\site-packages\\sklearn\\cluster\\_kmeans.py:1382: UserWarning: KMeans is known to have a memory leak on Windows with MKL, when there are less chunks than available threads. You can avoid it by setting the environment variable OMP_NUM_THREADS=1.\n",
      "  warnings.warn(\n",
      "C:\\Users\\rupeshv\\Anaconda3\\envs\\rup_venv\\lib\\site-packages\\sklearn\\cluster\\_kmeans.py:870: FutureWarning: The default value of `n_init` will change from 10 to 'auto' in 1.4. Set the value of `n_init` explicitly to suppress the warning\n",
      "  warnings.warn(\n",
      "C:\\Users\\rupeshv\\Anaconda3\\envs\\rup_venv\\lib\\site-packages\\sklearn\\cluster\\_kmeans.py:1382: UserWarning: KMeans is known to have a memory leak on Windows with MKL, when there are less chunks than available threads. You can avoid it by setting the environment variable OMP_NUM_THREADS=1.\n",
      "  warnings.warn(\n",
      "C:\\Users\\rupeshv\\Anaconda3\\envs\\rup_venv\\lib\\site-packages\\sklearn\\cluster\\_kmeans.py:870: FutureWarning: The default value of `n_init` will change from 10 to 'auto' in 1.4. Set the value of `n_init` explicitly to suppress the warning\n",
      "  warnings.warn(\n",
      "C:\\Users\\rupeshv\\Anaconda3\\envs\\rup_venv\\lib\\site-packages\\sklearn\\cluster\\_kmeans.py:1382: UserWarning: KMeans is known to have a memory leak on Windows with MKL, when there are less chunks than available threads. You can avoid it by setting the environment variable OMP_NUM_THREADS=1.\n",
      "  warnings.warn(\n"
     ]
    }
   ],
   "source": [
    "wcss = []\n",
    "for i in range(1,11):\n",
    "    kmeans=KMeans(n_clusters=i,init='k-means++',random_state=42)\n",
    "    kmeans.fit(X)\n",
    "    wcss.append(kmeans.inertia_)"
   ]
  },
  {
   "cell_type": "code",
   "execution_count": 13,
   "id": "c765b039",
   "metadata": {},
   "outputs": [
    {
     "data": {
      "text/plain": [
       "[24548.280892187504,\n",
       " 12669.169437698414,\n",
       " 8730.916803529411,\n",
       " 5812.132083967885,\n",
       " 4757.495732359308,\n",
       " 4152.138719141415,\n",
       " 3510.537036926408,\n",
       " 2986.932843012478,\n",
       " 2579.7581082142865,\n",
       " 2253.421282857142]"
      ]
     },
     "execution_count": 13,
     "metadata": {},
     "output_type": "execute_result"
    }
   ],
   "source": [
    "wcss"
   ]
  },
  {
   "cell_type": "code",
   "execution_count": 14,
   "id": "a0dfdd49",
   "metadata": {},
   "outputs": [
    {
     "data": {
      "text/plain": [
       "[<matplotlib.lines.Line2D at 0x190d3e6cbe0>]"
      ]
     },
     "execution_count": 14,
     "metadata": {},
     "output_type": "execute_result"
    },
    {
     "data": {
      "image/png": "[encoded data removed]",
      "text/plain": [
       "<Figure size 640x480 with 1 Axes>"
      ]
     },
     "metadata": {},
     "output_type": "display_data"
    }
   ],
   "source": [
    "#Result of elbow curve\n",
    "plt.plot(range(1,11),wcss)"
   ]
  },
  {
   "cell_type": "code",
   "execution_count": 15,
   "id": "a1f7d935",
   "metadata": {},
   "outputs": [],
   "source": [
    "#Take number of cluster = 4 by seeing from above picture"
   ]
  },
  {
   "cell_type": "code",
   "execution_count": 16,
   "id": "db8e536c",
   "metadata": {},
   "outputs": [
    {
     "name": "stderr",
     "output_type": "stream",
     "text": [
      "C:\\Users\\rupeshv\\Anaconda3\\envs\\rup_venv\\lib\\site-packages\\sklearn\\cluster\\_kmeans.py:870: FutureWarning: The default value of `n_init` will change from 10 to 'auto' in 1.4. Set the value of `n_init` explicitly to suppress the warning\n",
      "  warnings.warn(\n",
      "C:\\Users\\rupeshv\\Anaconda3\\envs\\rup_venv\\lib\\site-packages\\sklearn\\cluster\\_kmeans.py:1382: UserWarning: KMeans is known to have a memory leak on Windows with MKL, when there are less chunks than available threads. You can avoid it by setting the environment variable OMP_NUM_THREADS=1.\n",
      "  warnings.warn(\n"
     ]
    }
   ],
   "source": [
    "kmeans=KMeans(n_clusters=4,init='k-means++',random_state=42)\n",
    "y=kmeans.fit_predict(X)"
   ]
  },
  {
   "cell_type": "code",
   "execution_count": 17,
   "id": "35125b34",
   "metadata": {},
   "outputs": [
    {
     "data": {
      "text/plain": [
       "array([3, 3, 2, 0, 1, 2, 3, 3, 1, 0, 1, 3, 1, 1, 1, 0, 1, 1, 1, 3, 1, 2,\n",
       "       1, 2, 1, 0, 1, 3, 1, 2, 1, 3, 1, 3, 1, 2, 1, 1, 2, 2, 2, 1, 2, 1,\n",
       "       0, 0, 0, 1, 0, 3, 3, 2, 0, 1, 2, 2, 0, 0, 1, 1, 0, 1, 0, 1])"
      ]
     },
     "execution_count": 17,
     "metadata": {},
     "output_type": "execute_result"
    }
   ],
   "source": [
    "y"
   ]
  },
  {
   "cell_type": "code",
   "execution_count": 18,
   "id": "442258ef",
   "metadata": {},
   "outputs": [
    {
     "data": {
      "text/html": [
       "<div>\n",
       "<style scoped>\n",
       "    .dataframe tbody tr th:only-of-type {\n",
       "        vertical-align: middle;\n",
       "    }\n",
       "\n",
       "    .dataframe tbody tr th {\n",
       "        vertical-align: top;\n",
       "    }\n",
       "\n",
       "    .dataframe thead th {\n",
       "        text-align: right;\n",
       "    }\n",
       "</style>\n",
       "<table border=\"1\" class=\"dataframe\">\n",
       "  <thead>\n",
       "    <tr style=\"text-align: right;\">\n",
       "      <th></th>\n",
       "      <th>Name</th>\n",
       "      <th>Strike_rate</th>\n",
       "      <th>Average</th>\n",
       "      <th>Cluster</th>\n",
       "    </tr>\n",
       "  </thead>\n",
       "  <tbody>\n",
       "    <tr>\n",
       "      <th>0</th>\n",
       "      <td>Devon Conway</td>\n",
       "      <td>142.2</td>\n",
       "      <td>48.86</td>\n",
       "      <td>3</td>\n",
       "    </tr>\n",
       "    <tr>\n",
       "      <th>1</th>\n",
       "      <td>Ruturaj Gaikwad</td>\n",
       "      <td>149.02</td>\n",
       "      <td>46.77</td>\n",
       "      <td>3</td>\n",
       "    </tr>\n",
       "    <tr>\n",
       "      <th>2</th>\n",
       "      <td>Ambati Rayudu</td>\n",
       "      <td>139.13</td>\n",
       "      <td>16.0</td>\n",
       "      <td>2</td>\n",
       "    </tr>\n",
       "    <tr>\n",
       "      <th>3</th>\n",
       "      <td>Shivam Dube</td>\n",
       "      <td>158.12</td>\n",
       "      <td>39.82</td>\n",
       "      <td>0</td>\n",
       "    </tr>\n",
       "    <tr>\n",
       "      <th>4</th>\n",
       "      <td>Ravindra Jadeja</td>\n",
       "      <td>145.65</td>\n",
       "      <td>25.12</td>\n",
       "      <td>1</td>\n",
       "    </tr>\n",
       "    <tr>\n",
       "      <th>...</th>\n",
       "      <td>...</td>\n",
       "      <td>...</td>\n",
       "      <td>...</td>\n",
       "      <td>...</td>\n",
       "    </tr>\n",
       "    <tr>\n",
       "      <th>59</th>\n",
       "      <td>Atharva Taide</td>\n",
       "      <td>140.48</td>\n",
       "      <td>29.5</td>\n",
       "      <td>1</td>\n",
       "    </tr>\n",
       "    <tr>\n",
       "      <th>60</th>\n",
       "      <td>Liam Livings</td>\n",
       "      <td>169.71</td>\n",
       "      <td>33.0</td>\n",
       "      <td>0</td>\n",
       "    </tr>\n",
       "    <tr>\n",
       "      <th>61</th>\n",
       "      <td>Jason Roy</td>\n",
       "      <td>150.0</td>\n",
       "      <td>36.0</td>\n",
       "      <td>1</td>\n",
       "    </tr>\n",
       "    <tr>\n",
       "      <th>62</th>\n",
       "      <td>Philip Salt</td>\n",
       "      <td>166.67</td>\n",
       "      <td>28.12</td>\n",
       "      <td>0</td>\n",
       "    </tr>\n",
       "    <tr>\n",
       "      <th>63</th>\n",
       "      <td>Quin</td>\n",
       "      <td>142.72</td>\n",
       "      <td>36.75</td>\n",
       "      <td>1</td>\n",
       "    </tr>\n",
       "  </tbody>\n",
       "</table>\n",
       "<p>64 rows × 4 columns</p>\n",
       "</div>"
      ],
      "text/plain": [
       "               Name Strike_rate Average Cluster\n",
       "0      Devon Conway       142.2   48.86       3\n",
       "1   Ruturaj Gaikwad      149.02   46.77       3\n",
       "2     Ambati Rayudu      139.13    16.0       2\n",
       "3       Shivam Dube      158.12   39.82       0\n",
       "4   Ravindra Jadeja      145.65   25.12       1\n",
       "..              ...         ...     ...     ...\n",
       "59    Atharva Taide      140.48    29.5       1\n",
       "60     Liam Livings      169.71    33.0       0\n",
       "61        Jason Roy       150.0    36.0       1\n",
       "62      Philip Salt      166.67   28.12       0\n",
       "63             Quin      142.72   36.75       1\n",
       "\n",
       "[64 rows x 4 columns]"
      ]
     },
     "execution_count": 18,
     "metadata": {},
     "output_type": "execute_result"
    }
   ],
   "source": [
    "output=pd.DataFrame(np.column_stack([df_players['Name'],X,y]),columns=['Name','Strike_rate','Average','Cluster'])\n",
    "output"
   ]
  },
  {
   "cell_type": "markdown",
   "id": "a05b1f87",
   "metadata": {},
   "source": [
    "## Cluster analysis and interpretation "
   ]
  },
  {
   "cell_type": "code",
   "execution_count": 19,
   "id": "49bd0e07",
   "metadata": {},
   "outputs": [
    {
     "data": {
      "image/png": "[encoded data removed]",
      "text/plain": [
       "<Figure size 640x480 with 1 Axes>"
      ]
     },
     "metadata": {},
     "output_type": "display_data"
    }
   ],
   "source": [
    "plt.scatter(X[y == 0, 0], X[y == 0, 1], s = 100, c = 'blue', label = 'Cluster 1') #for first cluster  \n",
    "plt.scatter(X[y == 1, 0], X[y == 1, 1], s = 100, c = 'red', label = 'Cluster 2') #for second cluster  \n",
    "\n",
    "plt.scatter(X[y == 2, 0], X[y == 2, 1], s = 100, c = 'yellow', label = 'Cluster 3') #for third cluster  \n",
    "\n",
    "plt.scatter(X[y == 3, 0], X[y == 3, 1], s = 100, c = 'orange', label = 'Cluster 4') #for fourth cluster  \n",
    "\n",
    "#plt.scatter(X[y == 4, 0], X[y == 4, 1], s = 100, c = 'cyan', label = 'Cluster 5') #for fifth cluster  \n",
    "\n",
    "# plt.scatter(X[y == 5, 0], X[y == 5, 1], s = 100, c = 'black', label = 'Cluster 6') #for six cluster  \n",
    "\n",
    "\n",
    "plt.scatter(kmeans.cluster_centers_[:,0],kmeans.cluster_centers_[:,1],s=300,c='magenta',label='centroid'\n",
    "           )\n",
    "\n",
    "plt.title(\"Strike_rate vs average Cluster \")\n",
    "plt.xlabel(\"Strike_rate\")\n",
    "plt.ylabel(\"average\")\n",
    "plt.legend()\n",
    "plt.show()"
   ]
  },
  {
   "cell_type": "code",
   "execution_count": 20,
   "id": "f505fedb",
   "metadata": {},
   "outputs": [
    {
     "data": {
      "text/plain": [
       "<seaborn.axisgrid.PairGrid at 0x190d62cb370>"
      ]
     },
     "execution_count": 20,
     "metadata": {},
     "output_type": "execute_result"
    },
    {
     "data": {
      "image/png": "[encoded data removed]",
      "text/plain": [
       "<Figure size 500x500 with 6 Axes>"
      ]
     },
     "metadata": {},
     "output_type": "display_data"
    }
   ],
   "source": [
    "sns.pairplot(data=df_players)"
   ]
  },
  {
   "cell_type": "code",
   "execution_count": 21,
   "id": "0b0d2d8b",
   "metadata": {},
   "outputs": [
    {
     "data": {
      "text/html": [
       "<div>\n",
       "<style scoped>\n",
       "    .dataframe tbody tr th:only-of-type {\n",
       "        vertical-align: middle;\n",
       "    }\n",
       "\n",
       "    .dataframe tbody tr th {\n",
       "        vertical-align: top;\n",
       "    }\n",
       "\n",
       "    .dataframe thead th {\n",
       "        text-align: right;\n",
       "    }\n",
       "</style>\n",
       "<table border=\"1\" class=\"dataframe\">\n",
       "  <thead>\n",
       "    <tr style=\"text-align: right;\">\n",
       "      <th></th>\n",
       "      <th>Strike_rate</th>\n",
       "      <th>Average</th>\n",
       "    </tr>\n",
       "  </thead>\n",
       "  <tbody>\n",
       "    <tr>\n",
       "      <th>count</th>\n",
       "      <td>64.000000</td>\n",
       "      <td>64.000000</td>\n",
       "    </tr>\n",
       "    <tr>\n",
       "      <th>mean</th>\n",
       "      <td>146.762656</td>\n",
       "      <td>33.546563</td>\n",
       "    </tr>\n",
       "    <tr>\n",
       "      <th>std</th>\n",
       "      <td>15.663029</td>\n",
       "      <td>12.013524</td>\n",
       "    </tr>\n",
       "    <tr>\n",
       "      <th>min</th>\n",
       "      <td>112.500000</td>\n",
       "      <td>11.920000</td>\n",
       "    </tr>\n",
       "    <tr>\n",
       "      <th>25%</th>\n",
       "      <td>137.655000</td>\n",
       "      <td>24.642500</td>\n",
       "    </tr>\n",
       "    <tr>\n",
       "      <th>50%</th>\n",
       "      <td>145.215000</td>\n",
       "      <td>30.935000</td>\n",
       "    </tr>\n",
       "    <tr>\n",
       "      <th>75%</th>\n",
       "      <td>157.015000</td>\n",
       "      <td>39.960000</td>\n",
       "    </tr>\n",
       "    <tr>\n",
       "      <th>max</th>\n",
       "      <td>185.330000</td>\n",
       "      <td>63.330000</td>\n",
       "    </tr>\n",
       "  </tbody>\n",
       "</table>\n",
       "</div>"
      ],
      "text/plain": [
       "       Strike_rate    Average\n",
       "count    64.000000  64.000000\n",
       "mean    146.762656  33.546563\n",
       "std      15.663029  12.013524\n",
       "min     112.500000  11.920000\n",
       "25%     137.655000  24.642500\n",
       "50%     145.215000  30.935000\n",
       "75%     157.015000  39.960000\n",
       "max     185.330000  63.330000"
      ]
     },
     "execution_count": 21,
     "metadata": {},
     "output_type": "execute_result"
    }
   ],
   "source": [
    "df_players.describe()"
   ]
  },
  {
   "cell_type": "code",
   "execution_count": 22,
   "id": "427c5583",
   "metadata": {},
   "outputs": [
    {
     "data": {
      "text/plain": [
       "<AxesSubplot: >"
      ]
     },
     "execution_count": 22,
     "metadata": {},
     "output_type": "execute_result"
    },
    {
     "data": {
      "image/png": "[encoded data removed]",
      "text/plain": [
       "<Figure size 640x480 with 1 Axes>"
      ]
     },
     "metadata": {},
     "output_type": "display_data"
    }
   ],
   "source": [
    "\n",
    "sns.boxplot(df_players['Average'])"
   ]
  },
  {
   "cell_type": "code",
   "execution_count": 23,
   "id": "a050095b",
   "metadata": {},
   "outputs": [
    {
     "data": {
      "text/plain": [
       "<AxesSubplot: >"
      ]
     },
     "execution_count": 23,
     "metadata": {},
     "output_type": "execute_result"
    },
    {
     "data": {
      "image/png": "[encoded data removed]",
      "text/plain": [
       "<Figure size 640x480 with 1 Axes>"
      ]
     },
     "metadata": {},
     "output_type": "display_data"
    }
   ],
   "source": [
    "sns.boxplot(df_players['Strike_rate'])"
   ]
  },
  {
   "cell_type": "markdown",
   "id": "07a72124",
   "metadata": {},
   "source": [
    "## Interpret characterics of each cluster"
   ]
  },
  {
   "cell_type": "code",
   "execution_count": 24,
   "id": "86ab8970",
   "metadata": {},
   "outputs": [],
   "source": [
    "#number of categories created\n",
    "def cluster_mapping(number):\n",
    "    if number == 0:\n",
    "        return \"Aggressive Hitters \"\n",
    "    if number == 1:\n",
    "        return \"Consistent Performers\"\n",
    "    if number == 2:\n",
    "        return \"Middle order attacking\"\n",
    "    if number == 3:\n",
    "        return \"Low order Batsman\"\n"
   ]
  },
  {
   "cell_type": "code",
   "execution_count": 25,
   "id": "f96381d5",
   "metadata": {},
   "outputs": [],
   "source": [
    "output['Label'] = output['Cluster'].apply(cluster_mapping)"
   ]
  },
  {
   "cell_type": "code",
   "execution_count": 26,
   "id": "5fbb0e06",
   "metadata": {},
   "outputs": [
    {
     "data": {
      "text/plain": [
       "0          Low order Batsman\n",
       "1          Low order Batsman\n",
       "2     Middle order attacking\n",
       "3        Aggressive Hitters \n",
       "4      Consistent Performers\n",
       "               ...          \n",
       "59     Consistent Performers\n",
       "60       Aggressive Hitters \n",
       "61     Consistent Performers\n",
       "62       Aggressive Hitters \n",
       "63     Consistent Performers\n",
       "Name: Label, Length: 64, dtype: object"
      ]
     },
     "execution_count": 26,
     "metadata": {},
     "output_type": "execute_result"
    }
   ],
   "source": [
    "output['Label']"
   ]
  },
  {
   "cell_type": "code",
   "execution_count": 27,
   "id": "c068f557",
   "metadata": {},
   "outputs": [
    {
     "data": {
      "image/png": "[encoded data removed]",
      "text/plain": [
       "<Figure size 1000x800 with 1 Axes>"
      ]
     },
     "metadata": {},
     "output_type": "display_data"
    }
   ],
   "source": [
    "#visulization of label count in data\n",
    "fig, ax = plt.subplots(figsize=(10,8))\n",
    "ax=sns.countplot(data=output,x='Label',ax=ax)\n",
    "\n"
   ]
  },
  {
   "cell_type": "markdown",
   "id": "a14433aa",
   "metadata": {},
   "source": [
    "## Result: Consistent performers are more in number"
   ]
  }
 ],
 "metadata": {
  "kernelspec": {
   "display_name": "Python 3 (ipykernel)",
   "language": "python",
   "name": "python3"
  },
  "language_info": {
   "codemirror_mode": {
    "name": "ipython",
    "version": 3
   },
   "file_extension": ".py",
   "mimetype": "text/x-python",
   "name": "python",
   "nbconvert_exporter": "python",
   "pygments_lexer": "ipython3",
   "version": "3.10.9"
  }
 },
 "nbformat": 4,
 "nbformat_minor": 5
}
